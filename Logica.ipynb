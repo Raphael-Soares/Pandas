{
 "cells": [
  {
   "cell_type": "code",
   "execution_count": 35,
   "metadata": {},
   "outputs": [
    {
     "name": "stdout",
     "output_type": "stream",
     "text": [
      "{'ano': 2024, 'mes': 1, 'dia': 31}\n",
      "['2023-12-2', '2023-12-3', '2023-12-4', '2023-12-5', '2023-12-6', '2023-12-7', '2023-12-8', '2023-12-9', '2023-12-10', '2023-12-11', '2023-12-12', '2023-12-13', '2023-12-14', '2023-12-15', '2023-12-16', '2023-12-17', '2023-12-18', '2023-12-19', '2023-12-20', '2023-12-21', '2023-12-22', '2023-12-23', '2023-12-24', '2023-12-25', '2023-12-26', '2023-12-27', '2023-12-28', '2023-12-29', '2023-12-30', '2023-12-31', '2024-01-1', '2024-01-2', '2024-01-3', '2024-01-4', '2024-01-5', '2024-01-6', '2024-01-7', '2024-01-8', '2024-01-9', '2024-01-10', '2024-01-11', '2024-01-12', '2024-01-13', '2024-01-14', '2024-01-15', '2024-01-16', '2024-01-17', '2024-01-18', '2024-01-19', '2024-01-20', '2024-01-21', '2024-01-22', '2024-01-23', '2024-01-24', '2024-01-25', '2024-01-26', '2024-01-27', '2024-01-28', '2024-01-29', '2024-01-30', '2024-01-31']\n"
     ]
    }
   ],
   "source": [
    "QNT_DIAS_NO_MES = {\n",
    "    '1': 31,\n",
    "    '2': 28,\n",
    "    '3': 31,\n",
    "    '4':30,\n",
    "    '5':31,\n",
    "    '6': 30,\n",
    "    '7':31,\n",
    "    '8':31,\n",
    "    '9':30,\n",
    "    '10':31,\n",
    "    '11':31,\n",
    "    '12':31\n",
    "}\n",
    "\n",
    "def ateFimProxMes(data):\n",
    "    ano,mes,dia = data.split(\"-\")\n",
    "    ano,mes,dia = int(ano), int(mes), int(dia)\n",
    "    \n",
    "    data_final = {}\n",
    "    datas =[]\n",
    "    \n",
    "    def mesIntParaStr(mes):\n",
    "        if mes < 10:\n",
    "            return f'0{mes}'\n",
    "        return str(mes) \n",
    "    \n",
    "    if mes == 12:\n",
    "        data_final = {\n",
    "            'ano': ano + 1,\n",
    "            'mes': 1,\n",
    "            'dia': 31\n",
    "        }\n",
    "    else: \n",
    "        data_final = {\n",
    "            'ano': ano,\n",
    "            'mes': mes + 1,\n",
    "            'dia': QNT_DIAS_NO_MES[str(mes+1)]\n",
    "        }\n",
    "        \n",
    "    print(data_final)\n",
    "    \n",
    "    # Completar o mês\n",
    "    \n",
    "    while dia != QNT_DIAS_NO_MES[str(mes)]:\n",
    "        dia = dia + 1\n",
    "            \n",
    "        datas.append(f'{ano}-{mes}-{dia}')\n",
    "        \n",
    "    dia = 0\n",
    "    \n",
    "    # Adicionar o próximo mês\n",
    "    \n",
    "    mes = data_final['mes']\n",
    "    ano = data_final['ano']\n",
    "    \n",
    "    while dia != QNT_DIAS_NO_MES[str(data_final['mes'])]:\n",
    "        dia = dia + 1\n",
    "      \n",
    "        datas.append(f'{ano}-{mesIntParaStr(mes)}-{dia}')\n",
    "    \n",
    "    return datas\n",
    "     \n",
    "        \n",
    "print(ateFimProxMes(\"2023-12-01\"))\n",
    "\n"
   ]
  },
  {
   "cell_type": "code",
   "execution_count": null,
   "metadata": {},
   "outputs": [],
   "source": []
  }
 ],
 "metadata": {
  "kernelspec": {
   "display_name": "Python 3",
   "language": "python",
   "name": "python3"
  },
  "language_info": {
   "codemirror_mode": {
    "name": "ipython",
    "version": 3
   },
   "file_extension": ".py",
   "mimetype": "text/x-python",
   "name": "python",
   "nbconvert_exporter": "python",
   "pygments_lexer": "ipython3",
   "version": "3.10.6"
  },
  "orig_nbformat": 4
 },
 "nbformat": 4,
 "nbformat_minor": 2
}
