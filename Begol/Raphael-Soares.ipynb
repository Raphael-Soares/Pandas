{
 "cells": [
  {
   "attachments": {},
   "cell_type": "markdown",
   "metadata": {},
   "source": [
    "# Questão 1:\n"
   ]
  },
  {
   "cell_type": "code",
   "execution_count": null,
   "metadata": {},
   "outputs": [],
   "source": [
    "QNT_DIAS_NO_MES = {\n",
    "    '1': 31,\n",
    "    '2': 28,\n",
    "    '3': 31,\n",
    "    '4':30,\n",
    "    '5':31,\n",
    "    '6': 30,\n",
    "    '7':31,\n",
    "    '8':31,\n",
    "    '9':30,\n",
    "    '10':31,\n",
    "    '11':31,\n",
    "    '12':31\n",
    "}\n",
    "\n",
    "def ateFimProxMes(data):\n",
    "    ano,mes,dia = data.split(\"-\")\n",
    "    ano,mes,dia = int(ano), int(mes), int(dia)\n",
    "    \n",
    "    data_final = {}\n",
    "    datas =[]\n",
    "    \n",
    "    def mesIntParaStr(mes):\n",
    "        if mes < 10:\n",
    "            return f'0{mes}'\n",
    "        return str(mes) \n",
    "    \n",
    "    if mes == 12:\n",
    "        data_final = {\n",
    "            'ano': ano + 1,\n",
    "            'mes': 1,\n",
    "            'dia': 31\n",
    "        }\n",
    "    else: \n",
    "        data_final = {\n",
    "            'ano': ano,\n",
    "            'mes': mes + 1,\n",
    "            'dia': QNT_DIAS_NO_MES[str(mes+1)]\n",
    "        }\n",
    "        \n",
    "    print(data_final)\n",
    "    \n",
    "    # Completar o mês\n",
    "    \n",
    "    while dia != QNT_DIAS_NO_MES[str(mes)]:\n",
    "        dia = dia + 1\n",
    "            \n",
    "        datas.append(f'{ano}-{mes}-{dia}')\n",
    "        \n",
    "    dia = 0\n",
    "    \n",
    "    # Adicionar o próximo mês\n",
    "    \n",
    "    mes = data_final['mes']\n",
    "    ano = data_final['ano']\n",
    "    \n",
    "    while dia != QNT_DIAS_NO_MES[str(data_final['mes'])]:\n",
    "        dia = dia + 1\n",
    "      \n",
    "        datas.append(f'{ano}-{mesIntParaStr(mes)}-{dia}')\n",
    "    \n",
    "    return datas\n",
    "     \n",
    "        \n",
    "print(ateFimProxMes(\"2023-12-01\"))\n",
    "\n"
   ]
  },
  {
   "attachments": {},
   "cell_type": "markdown",
   "metadata": {},
   "source": [
    "# Questão 2:"
   ]
  },
  {
   "cell_type": "code",
   "execution_count": null,
   "metadata": {},
   "outputs": [],
   "source": [
    "# 2.1\n",
    "import modulos.modulo1 as m1 "
   ]
  },
  {
   "cell_type": "code",
   "execution_count": null,
   "metadata": {},
   "outputs": [],
   "source": [
    "#2.2\n",
    "\n",
    "import sys\n",
    "sys.path.insert(0, 'projeto-ml/utils/')\n",
    "\n",
    "import bd "
   ]
  },
  {
   "attachments": {},
   "cell_type": "markdown",
   "metadata": {},
   "source": [
    "# Questão 3:"
   ]
  },
  {
   "cell_type": "code",
   "execution_count": null,
   "metadata": {},
   "outputs": [],
   "source": [
    "class Funcionario():\n",
    "    def __init__(self, nome, salario):\n",
    "        self.nome = nome\n",
    "        self.salario = salario\n",
    "        \n",
    "class Representante(Funcionario):\n",
    "    def __init__(self, nome, salario, estabelecimentos):\n",
    "        super().__init__(nome, salario)\n",
    "        self.estabelecimentos = estabelecimentos\n",
    "        self.visitas = []\n",
    "    \n",
    "    def realizar_visita(self, estabelecimento):\n",
    "        self.visitas.append(estabelecimento)\n",
    "        \n",
    "class Coordenadores(Funcionario):\n",
    "    def __init__(self, nome, salario, regiao, representantes):\n",
    "        super().__init__(nome, salario)\n",
    "        self.regiao = regiao\n",
    "        self.representantes = representantes\n",
    "    \n",
    "class Estabelecimento():\n",
    "    def __init__(self, nome, endereco, categoria):\n",
    "        self.nome = nome\n",
    "        self.endereco = endereco\n",
    "        self.categoria = categoria\n"
   ]
  },
  {
   "attachments": {},
   "cell_type": "markdown",
   "metadata": {},
   "source": [
    "# Seção 2"
   ]
  },
  {
   "attachments": {},
   "cell_type": "markdown",
   "metadata": {},
   "source": [
    "# Questão 1"
   ]
  },
  {
   "cell_type": "code",
   "execution_count": null,
   "metadata": {},
   "outputs": [],
   "source": [
    "import pandas as pd\n",
    "\n",
    "\n",
    "clientes = pd.read_csv('clientes.csv', delimiter=';')\n",
    "descontos = pd.read_csv('descontos.csv', delimiter=';')\n",
    "\n",
    "cliente_desconto = pd.merge(clientes.assign(key=1), descontos.assign(key=1), on='key').drop('key', axis=1)\n",
    "\n",
    "cliente_desconto = cliente_desconto[['id','produto','caixas', 'desconto']]\n",
    "\n",
    "cliente_desconto = cliente_desconto.rename(columns={'id': 'cliente'})\n",
    "\n",
    "cliente_desconto.to_csv('cliente_desconto.csv', index=False)\n",
    "\n",
    "\n"
   ]
  },
  {
   "attachments": {},
   "cell_type": "markdown",
   "metadata": {},
   "source": [
    "# Questão 2\n"
   ]
  },
  {
   "cell_type": "code",
   "execution_count": 119,
   "metadata": {},
   "outputs": [],
   "source": [
    "import pandas as pd\n",
    "\n",
    "def filtrar_descontos_alto_acucar(cliente_desconto):\n",
    "    clientes = pd.read_csv('clientes.csv', delimiter=';')\n",
    "    produtos = pd.read_csv('produtos.csv', delimiter=';')\n",
    "\n",
    "    cliente_desconto = pd.merge(cliente_desconto, clientes, left_on='cliente', right_on='id')\n",
    "    cliente_desconto_produto = pd.merge(cliente_desconto, produtos, left_on='produto', right_on='id')\n",
    "\n",
    "    cliente_desconto_produto['alto_acucar'] = cliente_desconto_produto['açúcar'] == 'ALTO'\n",
    "\n",
    "    cliente_desconto_produto = cliente_desconto_produto[(cliente_desconto_produto['canal'] == 'ESCOLA') | (cliente_desconto_produto['canal'] == 'UNIVERSIDADE')]\n",
    "\n",
    "    cliente_desconto_produto = cliente_desconto_produto[~cliente_desconto_produto['alto_acucar']]\n",
    "\n",
    "    cliente_desconto_produto = cliente_desconto_produto[['cliente',  'produto', 'caixas', 'desconto']]\n",
    "\n",
    "    return cliente_desconto_produto\n",
    "\n",
    "filtrar_descontos_alto_acucar(cliente_desconto).to_csv('cliente_desconto_produto_filtrado.csv', index=False, sep=';')\n"
   ]
  },
  {
   "cell_type": "code",
   "execution_count": null,
   "metadata": {},
   "outputs": [],
   "source": []
  }
 ],
 "metadata": {
  "kernelspec": {
   "display_name": "Python 3",
   "language": "python",
   "name": "python3"
  },
  "language_info": {
   "codemirror_mode": {
    "name": "ipython",
    "version": 3
   },
   "file_extension": ".py",
   "mimetype": "text/x-python",
   "name": "python",
   "nbconvert_exporter": "python",
   "pygments_lexer": "ipython3",
   "version": "3.10.6"
  },
  "orig_nbformat": 4
 },
 "nbformat": 4,
 "nbformat_minor": 2
}
